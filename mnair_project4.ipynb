{
 "cells": [
  {
   "cell_type": "markdown",
   "metadata": {},
   "source": [
    "# Project 4\n",
    "\n",
    "In this project, you will summarize and present your analysis from Projects 1-3."
   ]
  },
  {
   "cell_type": "markdown",
   "metadata": {},
   "source": [
    "### Intro: Write a problem Statement/ Specific Aim for this project"
   ]
  },
  {
   "cell_type": "markdown",
   "metadata": {},
   "source": [
    "Answer: \n",
    "This analysis addresses the concern of transparency in admissions standards to a UCLA graduate program. To determine the factors considered during the admissions process, this study examines admissions during the study period (pre-August 2011 GRE score revision) to determine if favoritism was shown in the admissions process to graduates from prestigious schools rather than simply selecting grades and test scores as the primary criteria for admission. \n",
    "\n",
    "Bias towards prestigious schools is indicated if findings show that lower GPA and GRE scores from high-prestige schools resulted in admission. A follow-up study with a more recent dataset would need to be conducted to indicate if such bias remains. "
   ]
  },
  {
   "cell_type": "markdown",
   "metadata": {},
   "source": [
    "### Dataset:  Write up a description of your data and any cleaning that was completed"
   ]
  },
  {
   "cell_type": "markdown",
   "metadata": {},
   "source": [
    "There were 400 observations in total. Three rows had missing values and were dropped from the dataset.\n"
   ]
  },
  {
   "cell_type": "markdown",
   "metadata": {
    "collapsed": true
   },
   "source": [
    "### Demo: Provide a table that explains the data by admission status"
   ]
  },
  {
   "cell_type": "markdown",
   "metadata": {},
   "source": [
    "Mean (STD) or counts by admission status for each variable \n",
    "\n",
    "| Not Admitted | Admitted\n",
    "---| ---|---\n",
    "GPA | 3.35(0.371)  | 3.48(0.376)\n",
    "GRE |573.5(108) | 618.8(116)\n",
    "Prestige 1 |0.85 |0.15\n",
    "Prestige 2 |0.63 | 0.37\n",
    "Prestige 3 |0.69 |0.31\n",
    "Prestige 4 |0.83 | 0.17"
   ]
  },
  {
   "cell_type": "markdown",
   "metadata": {},
   "source": [
    "### Methods: Write up the methods used in your analysis"
   ]
  },
  {
   "cell_type": "markdown",
   "metadata": {},
   "source": [
    "Used frequency tables to determine the odds and odds ratio for each level of prestige. Finally, I ran a logistic regression to "
   ]
  },
  {
   "cell_type": "markdown",
   "metadata": {},
   "source": [
    "### Results: Write up your results"
   ]
  },
  {
   "cell_type": "markdown",
   "metadata": {},
   "source": [
    "The odds ratio for attenting prestige 4 school is 0.1, a much lower odds than prestige 1 schools of 0.7. This indicates that while school attendance by itself is not enough to be admitted. GPA has an odds ratio over 1, meaning it is a very good indicator of admission. "
   ]
  },
  {
   "cell_type": "markdown",
   "metadata": {},
   "source": [
    "### Visuals: Provide a table or visualization of these results"
   ]
  },
  {
   "cell_type": "markdown",
   "metadata": {},
   "source": [
    "![](unit4img.png \"Title\")"
   ]
  },
  {
   "cell_type": "markdown",
   "metadata": {},
   "source": [
    "![](hw4.png \"Prediction by School Prestige\")"
   ]
  },
  {
   "cell_type": "markdown",
   "metadata": {},
   "source": [
    "### Discussion: Write up your discussion and future steps"
   ]
  },
  {
   "cell_type": "markdown",
   "metadata": {},
   "source": [
    "The highest predictions given perfect scores in GRE and GPA were from prestige 1 and 3 schools. Prestige 4 had the lowest probability even with perfect scores. \n",
    "\n",
    "For future analysis given another set of data with the same criteria, it would be valuable to see if the predictions hold true. "
   ]
  },
  {
   "cell_type": "code",
   "execution_count": null,
   "metadata": {
    "collapsed": true
   },
   "outputs": [],
   "source": []
  }
 ],
 "metadata": {
  "anaconda-cloud": {},
  "kernelspec": {
   "display_name": "Python [default]",
   "language": "python",
   "name": "python2"
  },
  "language_info": {
   "codemirror_mode": {
    "name": "ipython",
    "version": 2
   },
   "file_extension": ".py",
   "mimetype": "text/x-python",
   "name": "python",
   "nbconvert_exporter": "python",
   "pygments_lexer": "ipython2",
   "version": "2.7.12"
  }
 },
 "nbformat": 4,
 "nbformat_minor": 0
}
