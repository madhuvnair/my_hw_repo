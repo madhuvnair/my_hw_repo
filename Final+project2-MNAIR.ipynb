{
 "cells": [
  {
   "cell_type": "markdown",
   "metadata": {},
   "source": [
    "# Project Design Writeup\n"
   ]
  },
  {
   "cell_type": "markdown",
   "metadata": {},
   "source": [
    "### Project Problem and Hypothesis"
   ]
  },
  {
   "cell_type": "markdown",
   "metadata": {},
   "source": [
    "The story of the Titanic was famous before it was made into a movie starring Kate and Leo. It is usually thought of as a story of hubris on the part of the engineers and of the captain. While the story of the collision is well documented, we can learn more about who was able to survive by examining the Titanic dataset and looking for patterns of the survivors. \n",
    "Was there a cultural bias that determined access to lifeboats? Did certain classes, in particular the wealthy, have more members who survived the incident? \n",
    "\n",
    "Given the passenger class, age, sex and point of origin, was there a higher probability to survive?"
   ]
  },
  {
   "cell_type": "markdown",
   "metadata": {},
   "source": [
    "### Datasets"
   ]
  },
  {
   "cell_type": "markdown",
   "metadata": {},
   "source": [
    "VARIABLE DESCRIPTIONS:\n",
    "\n",
    "|Name of variable|Description|Type|\n",
    "|-----------------------|-------|\n",
    "|survival:|        Survival(0 = No; 1 = Yes)|Binary|\n",
    "|pclass: |         Passenger Class (1 = 1st; 2 = 2nd; 3 = 3rd)|Categorical|\n",
    "|name:     |       Name |Text|\n",
    "|sex:       |      Sex |Text|\n",
    "|age:      |       Age |Numerical|\n",
    "|sibsp:    |       Number of Siblings/Spouses Aboard |Numerical|\n",
    "|parch:    |       Number of Parents/Children Aboard|Numerical|\n",
    "|ticket:   |       Ticket Number |Combination of text and Numerical|\n",
    "|fare:     |       Passenger Fare |Numerical|\n",
    "|cabin:    |       Cabin |Combination of text and Numerical|\n",
    "|embarked:|        Port of Embarkation (C = Cherbourg; Q = Queenstown; S = Southampton) |Categorical|"
   ]
  },
  {
   "cell_type": "markdown",
   "metadata": {},
   "source": [
    "### Domain knowledge"
   ]
  },
  {
   "cell_type": "markdown",
   "metadata": {},
   "source": [
    "There has been a lot written about the Titanic disaster, including at least one scholarly paper that includes a statistical analysis, similar to what I will attempt. <br/>\n",
    "In addition, there is agreement across sources on the rates of survivorship since the data was collected so thoroughly following the disaster.<br/> \n",
    "I hope to find detailed drawings of the vessel, including the location of each class of cabin, 1st, 2nd and 3rd (steerage). <br/>\n",
    "In addidion, I hope to find more information on the passengers who boarded at each point of embarkation. "
   ]
  },
  {
   "cell_type": "markdown",
   "metadata": {},
   "source": [
    "### Project Concerns"
   ]
  },
  {
   "cell_type": "markdown",
   "metadata": {},
   "source": [
    "* Since the predictor metrics are catagorical, and the dependent variable is binary (survived or not) this might work better as a classification problem or a random forest prediction. <br/>\n",
    "* The accuracy of the data is generally agreed upon. There were later inquiries, both by US and UK (see http://www.titanicinquiry.org/source.php). I can conclude that the underlying data is as accurate and complete as possible. "
   ]
  },
  {
   "cell_type": "markdown",
   "metadata": {},
   "source": [
    "### Outcomes"
   ]
  },
  {
   "cell_type": "markdown",
   "metadata": {},
   "source": [
    "The output will be a document, probably powerpoint,with several charts explaining the class-based survivorship theory. Finally, I will introduce a model and determine the most important variables to predict survivorship in the test dataset.  \n",
    " \n"
   ]
  },
  {
   "cell_type": "code",
   "execution_count": null,
   "metadata": {
    "collapsed": true
   },
   "outputs": [],
   "source": []
  }
 ],
 "metadata": {
  "anaconda-cloud": {},
  "kernelspec": {
   "display_name": "Python [default]",
   "language": "python",
   "name": "python2"
  },
  "language_info": {
   "codemirror_mode": {
    "name": "ipython",
    "version": 2
   },
   "file_extension": ".py",
   "mimetype": "text/x-python",
   "name": "python",
   "nbconvert_exporter": "python",
   "pygments_lexer": "ipython2",
   "version": "2.7.12"
  }
 },
 "nbformat": 4,
 "nbformat_minor": 1
}
