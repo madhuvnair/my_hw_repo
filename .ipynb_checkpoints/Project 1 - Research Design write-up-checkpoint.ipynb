{
 "cells": [
  {
   "cell_type": "markdown",
   "metadata": {},
   "source": [
    "# Project 1 - Research Design Write-up"
   ]
  },
  {
   "cell_type": "markdown",
   "metadata": {},
   "source": [
    "### Data Dictionary"
   ]
  },
  {
   "cell_type": "markdown",
   "metadata": {},
   "source": [
    "Variable|Description|Type of Variable\n",
    "---|---|---\n",
    "Admit|1 = Admission, 0 = Not admitted| Binary\n",
    "GRE|Scores from 200 to 800| Continuous\n",
    "GPA|Scores from 1 to 4|Continuous\n",
    "Prestige|On a 1 to 4 ranking of prestigeous schools (1 being highest)|Categorical"
   ]
  },
  {
   "cell_type": "markdown",
   "metadata": {},
   "source": [
    "### Outcome"
   ]
  },
  {
   "cell_type": "markdown",
   "metadata": {},
   "source": [
    "To determine which of the variables present in the dataset is a reasonable predictor of admissions success into UCLA."
   ]
  },
  {
   "cell_type": "markdown",
   "metadata": {},
   "source": [
    "### Predictors and Covariates"
   ]
  },
  {
   "cell_type": "markdown",
   "metadata": {},
   "source": [
    "High scores on the Graduate Record Exam (GRE) and a high grade point average (GPA) are reasonable predictors of admission into a school with exacting admissions criteria. An added factor (covariate) would be the prestige of the undergraduate school. "
   ]
  },
  {
   "cell_type": "markdown",
   "metadata": {},
   "source": [
    "### Relevant Timeframe"
   ]
  },
  {
   "cell_type": "markdown",
   "metadata": {},
   "source": [
    "This data must be from before August 2011 because it uses a GRE scoring format with a range from 200 - 800. Effective August 2011, the GRE scoring system changed to a range from 130 - 170.  "
   ]
  },
  {
   "cell_type": "markdown",
   "metadata": {},
   "source": [
    "### Hypothesis"
   ]
  },
  {
   "cell_type": "markdown",
   "metadata": {},
   "source": [
    "Including GPA and GRE test scores, the standing of the undergraduate school was the largest factor in admissions to UCLA before August 2011. "
   ]
  },
  {
   "cell_type": "markdown",
   "metadata": {},
   "source": [
    "### Problem Statement"
   ]
  },
  {
   "cell_type": "markdown",
   "metadata": {},
   "source": [
    "This analysis addresses the concern of transparency in admissions standards to a UCLA graduate program. To determine the factors considered during the admissions process, this study examines admissions during the study period (pre-August 2011 GRE score revision) to determine if favoritism was shown in the admissions process to graduates from prestigious schools rather than simply selecting grades and test scores as the primary criteria for admission. \n",
    "\n",
    "Bias towards prestigious schools is indicated if findings show that lower GPA and GRE scores from high-prestige schools resulted in admission. A follow-up study with a more recent dataset would need to be conducted to indicate if such bias remains. "
   ]
  },
  {
   "cell_type": "markdown",
   "metadata": {},
   "source": [
    "### Risks and Assumptions"
   ]
  },
  {
   "cell_type": "markdown",
   "metadata": {},
   "source": [
    "It is assumed that admission to a graduate program would emphasize the potential of the student to succeed in the program.\n",
    "\n",
    "Each variable (GPA, GRE score, and prestige of undergraduate instituion) has its own merits as an evaluation criterion. Grades indicate the general performance of a student over time within a program. However, grading by teachers at individual institutions can be subjective; therefore, standardized test scores should be given consideration as an objective variable. The GRE is similarly not a perfect indicator of success in a graduate school program, because the student may just be a good test-taker. Moreover, the prestige of the undergraduate institution may influence the performance of both variables, because a less prestigious school may grade more leniently, while a more prestigious school may have a self-selected population of good test-takers and grade more strictly.\n",
    "\n",
    "Finally, acceptance to a graduate program may hinge on factors not represented in the data, such as a student's written body of work, letters of recommendation, or other projects or materials that would give added weight to the student's application. Prestige ranking may be an indicator of those factors, but it is unlikely to be truly encompassing. "
   ]
  },
  {
   "cell_type": "markdown",
   "metadata": {},
   "source": [
    "### Guiding Questions"
   ]
  },
  {
   "cell_type": "markdown",
   "metadata": {},
   "source": [
    "1. What were the lowest GPA and GRE scores for students admitted from each rank of school?\n",
    "2. Was there a difference in the acceptance thresholds for each rank of school?\n",
    "3. Were there differences in the median (or quartiles) for those accepted and rejected for each rank of school?"
   ]
  },
  {
   "cell_type": "markdown",
   "metadata": {},
   "source": [
    "### Alternate Hypothesis"
   ]
  },
  {
   "cell_type": "markdown",
   "metadata": {},
   "source": [
    "Alternatively, GRE scores may offer the best correlation to admissions. If true, there should be a high degree of correlation between high GRE test scores and admissions. "
   ]
  },
  {
   "cell_type": "markdown",
   "metadata": {},
   "source": [
    "### Alternate Problem Statement"
   ]
  },
  {
   "cell_type": "markdown",
   "metadata": {},
   "source": [
    "Individual teachers and schools may have individual criteria for grading, including insitutional grading curves. Accordingly, a standardized score would be the most fair assessment. This study would seek to determine if UCLA admissions used the GRE test as their primary criteria. A possible area of study would be to see if lower GRE test scores are correlated to rejections."
   ]
  }
 ],
 "metadata": {
  "anaconda-cloud": {},
  "kernelspec": {
   "display_name": "Python [Root]",
   "language": "python",
   "name": "Python [Root]"
  },
  "language_info": {
   "codemirror_mode": {
    "name": "ipython",
    "version": 2
   },
   "file_extension": ".py",
   "mimetype": "text/x-python",
   "name": "python",
   "nbconvert_exporter": "python",
   "pygments_lexer": "ipython2",
   "version": "2.7.12"
  }
 },
 "nbformat": 4,
 "nbformat_minor": 1
}
